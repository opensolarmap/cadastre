{
 "cells": [
  {
   "cell_type": "code",
   "execution_count": 1,
   "metadata": {
    "collapsed": true
   },
   "outputs": [],
   "source": [
    "import falcon\n",
    "import psycopg2\n",
    "import postgis\n",
    "import json\n",
    "import numpy as np\n",
    "\n"
   ]
  },
  {
   "cell_type": "code",
   "execution_count": 2,
   "metadata": {
    "collapsed": true
   },
   "outputs": [],
   "source": [
    "x_min = 2.35\n",
    "x_max = 2.65\n",
    "y_min = 48.85\n",
    "y_max = 48.95\n"
   ]
  },
  {
   "cell_type": "code",
   "execution_count": 3,
   "metadata": {
    "collapsed": true
   },
   "outputs": [],
   "source": [
    "def limit_range(x_min, x_max, y_min, y_max, x_gap_max, y_gap_max):\n",
    "    assert x_min <= x_max\n",
    "    assert y_min <= y_max\n",
    "    if x_max - x_min > x_gap_max:\n",
    "        x_mean = (x_min + x_max)/2\n",
    "        x_min = x_mean - (x_gap_max / 2.)\n",
    "        x_max = x_mean + (x_gap_max / 2.)\n",
    "    if y_max - y_min > y_gap_max:\n",
    "        y_mean = (y_min + y_max)/2\n",
    "        y_min = y_mean - (y_gap_max / 2.)\n",
    "        y_max = y_mean + (y_gap_max / 2.)\n",
    "\n",
    "    return x_min, x_max, y_min, y_max"
   ]
  },
  {
   "cell_type": "code",
   "execution_count": null,
   "metadata": {
    "collapsed": true
   },
   "outputs": [],
   "source": [
    "\n",
    "x_gap_max = 1.\n",
    "y_gap_max = 0.5\n",
    "x_min, x_max, y_min, y_max = limit_range(x_min, x_max, y_min, y_max, x_gap_max, y_gap_max)\n"
   ]
  },
  {
   "cell_type": "code",
   "execution_count": 4,
   "metadata": {
    "collapsed": true
   },
   "outputs": [],
   "source": [
    "connection = psycopg2.connect(dbname='solar', user='solar', password='baba')\n",
    "cursor = connection.cursor()\n",
    "postgis.register(cursor)\n"
   ]
  },
  {
   "cell_type": "code",
   "execution_count": 5,
   "metadata": {
    "collapsed": true
   },
   "outputs": [],
   "source": [
    "\n",
    "cursor.execute(\"\"\"\n",
    "    select commune, class_0_sum, class_1_sum, class_2_sum, class_3_sum, total, nom, wikipedia, surf_m2, geom\n",
    "    from commune_merge\n",
    "    where geom && st_makeenvelope(%s, %s, %s, %s, 4326);\n",
    "    \"\"\", (x_min,y_min,x_max,y_max))\n",
    "\n",
    "data = cursor.fetchall()\n",
    "\n",
    "cursor.close()\n",
    "connection.close()\n"
   ]
  },
  {
   "cell_type": "code",
   "execution_count": 11,
   "metadata": {
    "collapsed": false
   },
   "outputs": [
    {
     "data": {
      "text/plain": [
       "'12e Arrondissement'"
      ]
     },
     "execution_count": 11,
     "metadata": {},
     "output_type": "execute_result"
    }
   ],
   "source": [
    "data[0][6]"
   ]
  },
  {
   "cell_type": "code",
   "execution_count": 20,
   "metadata": {
    "collapsed": true
   },
   "outputs": [],
   "source": [
    "features = []\n",
    "for i, data_commune in enumerate(data):\n",
    "    features.append({\n",
    "            'type': 'Feature',\n",
    "            'properties': {\n",
    "                'commune': data_commune[0],\n",
    "                'class_0_sum': data_commune[1],\n",
    "                'class_1_sum': data_commune[2],\n",
    "                'class_2_sum': data_commune[3],\n",
    "                'class_3_sum': data_commune[4],\n",
    "                'total': data_commune[5],\n",
    "                'nom': data_commune[6],\n",
    "                'wikipedia': data_commune[7],\n",
    "                'surf_m2': float(data_commune[8]),\n",
    "            },\n",
    "            'geometry': data_commune[9].geojson\n",
    "        })\n"
   ]
  },
  {
   "cell_type": "code",
   "execution_count": null,
   "metadata": {
    "collapsed": true
   },
   "outputs": [],
   "source": [
    "\n",
    "resp.status = falcon.HTTP_200\n",
    "resp.set_header('Access-Control-Allow-Origin', '*')\n",
    "resp.body = json.dumps({\n",
    "       'type': 'FeatureCollection',\n",
    "       'features': features,\n",
    "    })\n"
   ]
  },
  {
   "cell_type": "code",
   "execution_count": 21,
   "metadata": {
    "collapsed": false
   },
   "outputs": [
    {
     "data": {
      "text/plain": [
       "'16319745.0'"
      ]
     },
     "execution_count": 21,
     "metadata": {},
     "output_type": "execute_result"
    }
   ],
   "source": [
    "json.dumps(features[0]['properties']['surf_m2'])"
   ]
  },
  {
   "cell_type": "code",
   "execution_count": 15,
   "metadata": {
    "collapsed": false
   },
   "outputs": [
    {
     "data": {
      "text/plain": [
       "{'geometry': {'coordinates': ((((2.3991179630524995, 48.84809777992195),\n",
       "     (2.415992546170099, 48.84661410673356),\n",
       "     (2.4112265344302033, 48.83386688226201),\n",
       "     (2.4221763689229214, 48.83581426867215),\n",
       "     (2.4194236613977935, 48.842486688986654),\n",
       "     (2.4221063901622886, 48.844498002237046),\n",
       "     (2.427563116524144, 48.84150917375822),\n",
       "     (2.437191888560036, 48.84089140314677),\n",
       "     (2.4407661952440187, 48.84591647311163),\n",
       "     (2.447732270946252, 48.84480151605461),\n",
       "     (2.4617397011715276, 48.84269449867392),\n",
       "     (2.467231551660993, 48.839093682202105),\n",
       "     (2.469703445828304, 48.83555557941637),\n",
       "     (2.4652295662188033, 48.8311513894441),\n",
       "     (2.465761009540889, 48.82628238748528),\n",
       "     (2.461307701351395, 48.81829837437693),\n",
       "     (2.437349902218512, 48.81821911399533),\n",
       "     (2.4302391977555358, 48.82340259731658),\n",
       "     (2.419946391061623, 48.82415217603052),\n",
       "     (2.4102443164985465, 48.825191596163435),\n",
       "     (2.402487903009345, 48.82964687139496),\n",
       "     (2.3902559031116035, 48.82572617204044),\n",
       "     (2.366028699225013, 48.8449298615273),\n",
       "     (2.364429518356224, 48.84614017094379),\n",
       "     (2.369137319265709, 48.85316178853188),\n",
       "     (2.3991179630524995, 48.84809777992195)),),),\n",
       "  'type': 'MultiPolygon'},\n",
       " 'properties': {'class_0_sum': None,\n",
       "  'class_1_sum': None,\n",
       "  'class_2_sum': None,\n",
       "  'class_3_sum': None,\n",
       "  'commune': '75112',\n",
       "  'nom': '12e Arrondissement',\n",
       "  'surf_m2': Decimal('16319745.000000000000000'),\n",
       "  'total': None,\n",
       "  'wikipedia': 'fr:12e arrondissement de Paris'},\n",
       " 'type': 'Feature'}"
      ]
     },
     "execution_count": 15,
     "metadata": {},
     "output_type": "execute_result"
    }
   ],
   "source": [
    "features[0]"
   ]
  },
  {
   "cell_type": "code",
   "execution_count": null,
   "metadata": {
    "collapsed": true
   },
   "outputs": [],
   "source": []
  }
 ],
 "metadata": {
  "kernelspec": {
   "display_name": "Python 3",
   "language": "python",
   "name": "python3"
  },
  "language_info": {
   "codemirror_mode": {
    "name": "ipython",
    "version": 3
   },
   "file_extension": ".py",
   "mimetype": "text/x-python",
   "name": "python",
   "nbconvert_exporter": "python",
   "pygments_lexer": "ipython3",
   "version": "3.5.2"
  }
 },
 "nbformat": 4,
 "nbformat_minor": 1
}
